{
 "cells": [
  {
   "cell_type": "markdown",
   "metadata": {},
   "source": [
    "# Throughtput Benchmarking  Seldon-Core on GCP Kubernetes\n",
    "\n",
    "The notebook will provide a benchmarking of seldon-core for maximum throughput test. We will run a stub model and test using REST and gRPC predictions. This will provide a maximum theoretical throughtput for model deployment in the given infrastructure scenario."
   ]
  },
  {
   "cell_type": "markdown",
   "metadata": {},
   "source": [
    "## Create Cluster"
   ]
  },
  {
   "cell_type": "markdown",
   "metadata": {
    "collapsed": true
   },
   "source": [
    "Create a cluster in GKE. You can use GKE console or `gcloud` command line."
   ]
  },
  {
   "cell_type": "markdown",
   "metadata": {},
   "source": [
    "## Setup Seldon Deployment\n",
    "\n",
    "Use the setup notebook to [Setup Cluster](seldon_core_setup.ipynb#Setup-Cluster) with [Ambassador Ingress](seldon_core_setup.ipynb#Ambassador) and [Install Seldon Core](seldon_core_setup.ipynb#Install-Seldon-Core). Instructions [also online](./seldon_core_setup.html)."
   ]
  },
  {
   "cell_type": "code",
   "execution_count": 88,
   "metadata": {},
   "outputs": [
    {
     "name": "stdout",
     "output_type": "stream",
     "text": [
      "Fetching cluster endpoint and auth data.\n",
      "kubeconfig entry generated for prod-nezbleu.\n",
      "seldondeployment.machinelearning.seldon.io/loadtest created\n"
     ]
    }
   ],
   "source": [
    "DEPLOYMENT_NAME=\"seldon-loadtest\"\n",
    "NAMESPACE=\"\"\n",
    "GCP_PROJECT=\"\"\n",
    "LOCUST_IMAGE_LOCATION=\"\"  # I believe for the Seldon team it is loadtest-seldon-core-loadtest:5001\n",
    "MODEL_IMG_TAG=1.0\n",
    "ROUTER_IMG_TAG=1.1\n",
    "\n",
    "!gcloud -q container clusters get-credentials $GCP_PROJECT --region us-east1 --project ld-shipyard\n",
    "!helm template $DEPLOYMENT_NAME model --values model/values.yaml --set img_tag.model=$MODEL_IMG_TAG --set img_tag.router=$ROUTER_IMG_TAG | kubectl apply -n $NAMESPACE -f -"
   ]
  },
  {
   "cell_type": "markdown",
   "metadata": {},
   "source": [
    "## REST \n",
    "Run REST benchmark"
   ]
  },
  {
   "cell_type": "code",
   "execution_count": null,
   "metadata": {
    "scrolled": true
   },
   "outputs": [],
   "source": [
    "!helm install loadtest locust  \\\n",
    "    --namespace $NAMESPACE \\\n",
    "    --set image.name=$LOCUST_IMAGE_LOCATION \\\n",
    "    --set locust.script=mab_rest_locust.py \\\n",
    "    --set locust.host=http://loadtest-loadtest-dummy-model:8000 \\\n",
    "    --set oauth.enabled=false \\\n",
    "    --set oauth.key=oauth-key \\\n",
    "    --set oauth.secret=oauth-secret \\\n",
    "    --set locust.hatchRate=1 \\\n",
    "    --set locust.clients=4 \\\n",
    "    --set loadtest.sendFeedback=0 \\\n",
    "    --set locust.minWait=0 \\\n",
    "    --set locust.maxWait=0 \\\n",
    "    --set locust.payloadPath='/home/seldon/resources/payload-single-model.json' \\\n",
    "    --set replicaCount=4"
   ]
  },
  {
   "cell_type": "markdown",
   "metadata": {},
   "source": [
    "Get stats from locust running on GKE"
   ]
  },
  {
   "cell_type": "code",
   "execution_count": 91,
   "metadata": {
    "scrolled": true
   },
   "outputs": [
    {
     "name": "stdout",
     "output_type": "stream",
     "text": [
      " Name                                                          # reqs      # fails     Avg     Min     Max  |  Median   req/s failures/s\r\n",
      "--------------------------------------------------------------------------------------------------------------------------------------------\r\n",
      " POST predictions                                                7924 1926(24.31%)      18       4   10008  |      12  304.20   31.20\r\n",
      "--------------------------------------------------------------------------------------------------------------------------------------------\r\n",
      " Aggregated                                                      7924 1926(24.31%)      18       4   10008  |      12  304.20   31.20\r\n",
      "\r\n",
      " Name                                                          # reqs      # fails     Avg     Min     Max  |  Median   req/s failures/s\r\n",
      "--------------------------------------------------------------------------------------------------------------------------------------------\r\n",
      " POST predictions                                                8160 1941(23.79%)      17       4   10008  |      12  304.90   31.30\r\n",
      "--------------------------------------------------------------------------------------------------------------------------------------------\r\n",
      " Aggregated                                                      8160 1941(23.79%)      17       4   10008  |      12  304.90   31.30\r\n",
      "\r\n"
     ]
    }
   ],
   "source": [
    "#This should pass\n",
    "!kubectl logs $(kubectl get pod -l name=locust-master-1 -n $NAMESPACE -o NAME) -n $NAMESPACE -c locust-master-1 --tail=12"
   ]
  },
  {
   "cell_type": "code",
   "execution_count": 83,
   "metadata": {
    "scrolled": true
   },
   "outputs": [
    {
     "name": "stdout",
     "output_type": "stream",
     "text": [
      "release \"loadtest\" uninstalled\r\n"
     ]
    }
   ],
   "source": [
    "!helm uninstall loadtest --namespace $NAMESPACE"
   ]
  },
  {
   "cell_type": "code",
   "execution_count": null,
   "metadata": {},
   "outputs": [],
   "source": [
    "!helm install loadtest locust  \\\n",
    "    --namespace $NAMESPACE \\\n",
    "    --set image.name=$LOCUST_IMAGE_LOCATION \\\n",
    "    --set locust.script=mab_rest_locust.py \\\n",
    "    --set locust.host=http://loadtest-loadtest-dummy-model:8000 \\\n",
    "    --set oauth.enabled=false \\\n",
    "    --set oauth.key=oauth-key \\\n",
    "    --set oauth.secret=oauth-secret \\\n",
    "    --set locust.hatchRate=1 \\\n",
    "    --set locust.clients=16 \\\n",
    "    --set loadtest.sendFeedback=0 \\\n",
    "    --set locust.minWait=0 \\\n",
    "    --set locust.maxWait=0 \\\n",
    "    --set locust.payloadPath='/home/seldon/resources/payload-single-model.json' \\\n",
    "    --set replicaCount=4"
   ]
  },
  {
   "cell_type": "code",
   "execution_count": 59,
   "metadata": {
    "scrolled": true
   },
   "outputs": [
    {
     "name": "stdout",
     "output_type": "stream",
     "text": [
      " Aggregated                                                         0     0(0.00%)       0       0       0  |       0    0.00    0.00\r\n",
      "\r\n",
      " Name                                                          # reqs      # fails     Avg     Min     Max  |  Median   req/s failures/s\r\n",
      "--------------------------------------------------------------------------------------------------------------------------------------------\r\n",
      "--------------------------------------------------------------------------------------------------------------------------------------------\r\n",
      " Aggregated                                                         0     0(0.00%)       0       0       0  |       0    0.00    0.00\r\n",
      "\r\n",
      " Name                                                          # reqs      # fails     Avg     Min     Max  |  Median   req/s failures/s\r\n",
      "--------------------------------------------------------------------------------------------------------------------------------------------\r\n",
      "--------------------------------------------------------------------------------------------------------------------------------------------\r\n",
      " Aggregated                                                         0     0(0.00%)       0       0       0  |       0    0.00    0.00\r\n",
      "\r\n"
     ]
    }
   ],
   "source": [
    "# Now it hangs, this is shown by 0 requests being sent per second, 0 errors, you can try calling the API outside of locust to verify\n",
    "!kubectl logs $(kubectl get pod -l name=locust-master-1 -n $NAMESPACE -o NAME) -n $NAMESPACE -c locust-master-1 --tail=12"
   ]
  },
  {
   "cell_type": "code",
   "execution_count": 86,
   "metadata": {
    "scrolled": true
   },
   "outputs": [
    {
     "name": "stdout",
     "output_type": "stream",
     "text": [
      "release \"loadtest\" uninstalled\r\n"
     ]
    }
   ],
   "source": [
    "!helm uninstall loadtest --namespace $NAMESPACE"
   ]
  },
  {
   "cell_type": "code",
   "execution_count": 87,
   "metadata": {},
   "outputs": [
    {
     "name": "stdout",
     "output_type": "stream",
     "text": [
      "seldondeployment.machinelearning.seldon.io \"loadtest\" deleted\r\n"
     ]
    }
   ],
   "source": [
    "!kubectl delete sdep loadtest -n $NAMESPACE"
   ]
  },
  {
   "cell_type": "code",
   "execution_count": null,
   "metadata": {},
   "outputs": [],
   "source": []
  }
 ],
 "metadata": {
  "kernelspec": {
   "display_name": "Python 3",
   "language": "python",
   "name": "python3"
  },
  "language_info": {
   "codemirror_mode": {
    "name": "ipython",
    "version": 3
   },
   "file_extension": ".py",
   "mimetype": "text/x-python",
   "name": "python",
   "nbconvert_exporter": "python",
   "pygments_lexer": "ipython3",
   "version": "3.7.6"
  },
  "varInspector": {
   "cols": {
    "lenName": 16,
    "lenType": 16,
    "lenVar": 40
   },
   "kernels_config": {
    "python": {
     "delete_cmd_postfix": "",
     "delete_cmd_prefix": "del ",
     "library": "var_list.py",
     "varRefreshCmd": "print(var_dic_list())"
    },
    "r": {
     "delete_cmd_postfix": ") ",
     "delete_cmd_prefix": "rm(",
     "library": "var_list.r",
     "varRefreshCmd": "cat(var_dic_list()) "
    }
   },
   "types_to_exclude": [
    "module",
    "function",
    "builtin_function_or_method",
    "instance",
    "_Feature"
   ],
   "window_display": false
  }
 },
 "nbformat": 4,
 "nbformat_minor": 1
}
